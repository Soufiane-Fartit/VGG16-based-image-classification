{
  "nbformat": 4,
  "nbformat_minor": 0,
  "metadata": {
    "colab": {
      "name": "VGG16-cats-dogs",
      "version": "0.3.2",
      "provenance": [],
      "collapsed_sections": [],
      "toc_visible": true,
      "machine_shape": "hm"
    },
    "kernelspec": {
      "name": "python3",
      "display_name": "Python 3"
    },
    "accelerator": "GPU"
  },
  "cells": [
    {
      "cell_type": "code",
      "metadata": {
        "id": "XtEEtUFpbmjw",
        "colab_type": "code",
        "colab": {}
      },
      "source": [
        "from google.colab import files\n",
        "files.upload()"
      ],
      "execution_count": 0,
      "outputs": []
    },
    {
      "cell_type": "code",
      "metadata": {
        "id": "t7z7iMAGb2W9",
        "colab_type": "code",
        "colab": {}
      },
      "source": [
        "!pip install -q kaggle"
      ],
      "execution_count": 0,
      "outputs": []
    },
    {
      "cell_type": "code",
      "metadata": {
        "id": "_hyI0tXLcMKR",
        "colab_type": "code",
        "colab": {}
      },
      "source": [
        "!mkdir -p ~/.kaggle\n",
        "!cp kaggle.json ~/.kaggle/\n",
        "\n",
        "!chmod 600 ~/.kaggle/kaggle.json"
      ],
      "execution_count": 0,
      "outputs": []
    },
    {
      "cell_type": "code",
      "metadata": {
        "id": "rYzS_XVIcZM1",
        "colab_type": "code",
        "colab": {}
      },
      "source": [
        "!kaggle datasets list"
      ],
      "execution_count": 0,
      "outputs": []
    },
    {
      "cell_type": "code",
      "metadata": {
        "id": "zB5fSVUJcwEr",
        "colab_type": "code",
        "colab": {}
      },
      "source": [
        "!kaggle datasets download -d chetankv/dogs-cats-images"
      ],
      "execution_count": 0,
      "outputs": []
    },
    {
      "cell_type": "code",
      "metadata": {
        "id": "Jm27FNZLdgTl",
        "colab_type": "code",
        "colab": {}
      },
      "source": [
        "!unzip dogs-cats-images.zip"
      ],
      "execution_count": 0,
      "outputs": []
    },
    {
      "cell_type": "code",
      "metadata": {
        "id": "RyxBqxADdoqD",
        "colab_type": "code",
        "colab": {}
      },
      "source": [
        "!unzip \"dog vs cat.zip\""
      ],
      "execution_count": 0,
      "outputs": []
    },
    {
      "cell_type": "code",
      "metadata": {
        "id": "jSRda9zpeD4d",
        "colab_type": "code",
        "colab": {}
      },
      "source": [
        "from keras.applications.vgg16 import VGG16\n",
        "from keras.layers import Input, Flatten, Dense\n",
        "from keras.models import Model\n",
        "\n",
        "def vgg2c():\n",
        "\tmodel = VGG16(weights='imagenet', include_top=False)\n",
        "\n",
        "\t#Create your own input format (here 3x200x200)\n",
        "\tinput = Input(shape=(224,224,3),name = 'image_input')\n",
        "\n",
        "\t#Use the generated model \n",
        "\toutput_vgg16_conv = model(input)\n",
        "\n",
        "\t#Add the fully-connected layers \n",
        "\tx = Flatten(name='flatten')(output_vgg16_conv)\n",
        "\tx = Dense(4096, activation='relu', name='fc1')(x)\n",
        "\tx = Dense(4096, activation='relu', name='fc2')(x)\n",
        "\tx = Dense(2, activation='softmax', name='predictions')(x)\n",
        "\n",
        "\t#Create your own model \n",
        "\tmy_model = Model(inputs=input, outputs=x)\n",
        "\n",
        "\treturn my_model"
      ],
      "execution_count": 0,
      "outputs": []
    },
    {
      "cell_type": "code",
      "metadata": {
        "id": "lP3pDaUaes7U",
        "colab_type": "code",
        "colab": {}
      },
      "source": [
        "dogs_train = []\n",
        "cats_train = []\n",
        "dogs_test = []\n",
        "cats_test = []\n",
        "\n",
        "dogs_train_target = []\n",
        "cats_train_target = []\n",
        "dogs_test_target = []\n",
        "cats_test_target = []\n",
        "\n",
        "\n",
        "for filename in glob.glob('dataset/training_set/dogs/*.jpg'): #assuming gif\n",
        "  im = cv2.imread(filename)\n",
        "  try:\n",
        "    im = cv2.resize(im,(224,224))\n",
        "    #im = np.expand_dims(im, axis=0)\n",
        "    im = preprocess_input(im)\n",
        "    dogs_train.append(im)\n",
        "    dogs_train_target.append([1,0])\n",
        "  except:\n",
        "    pass\n",
        "\n",
        "for filename in glob.glob('dataset/training_set/cats/*.jpg'): #assuming gif\n",
        "  im = cv2.imread(filename)\n",
        "  try:\n",
        "    im = cv2.resize(im,(224,224))\n",
        "    #im = np.expand_dims(im, axis=0)\n",
        "    im = preprocess_input(im)\n",
        "    cats_train.append(im)\n",
        "    cats_train_target.append([0,1])\n",
        "  except:\n",
        "    pass\n",
        "\n",
        "for filename in glob.glob('dataset/test_set/dogs/*.jpg'): #assuming gif\n",
        "  im = cv2.imread(filename)\n",
        "  try:\n",
        "    im = cv2.resize(im,(224,224))\n",
        "    #im = np.expand_dims(im, axis=0)\n",
        "    im = preprocess_input(im)\n",
        "    dogs_test.append(im)\n",
        "    dogs_test_target.append([1,0])\n",
        "  except:\n",
        "    pass\n",
        "\n",
        "for filename in glob.glob('dataset/test_set/cats/*.jpg'): #assuming gif\n",
        "  im = cv2.imread(filename)\n",
        "  try:\n",
        "    im = cv2.resize(im,(224,224))\n",
        "    #im = np.expand_dims(im, axis=0)\n",
        "    im = preprocess_input(im)\n",
        "    cats_test.append(im)\n",
        "    cats_test_target.append([0,1])\n",
        "  except:\n",
        "    pass\n",
        "\n",
        "dogs_train = np.array(dogs_train)\n",
        "cats_train = np.array(cats_train)\n",
        "dogs_test = np.array(dogs_test)\n",
        "cats_test = np.array(cats_test)\n",
        "\n",
        "dogs_train_target = np.array(dogs_train_target)\n",
        "cats_train_target = np.array(cats_train_target)\n",
        "dogs_test_target = np.array(dogs_test_target)\n",
        "cats_test_target = np.array(cats_test_target)\n",
        "\n",
        "train_set = np.concatenate((dogs_train, cats_train))\n",
        "train_targets = np.concatenate((dogs_train_target, cats_train_target))\n",
        "\n",
        "test_set = np.concatenate((dogs_test, cats_test))\n",
        "test_targets = np.concatenate((dogs_test_target, cats_test_target))\n",
        "\n",
        "train_set, train_targets = shuffle(train_set, train_targets)\n",
        "test_set, test_targets = shuffle(test_set, test_targets)\n"
      ],
      "execution_count": 0,
      "outputs": []
    },
    {
      "cell_type": "code",
      "metadata": {
        "id": "yz4ul0Fij2Ak",
        "colab_type": "code",
        "colab": {}
      },
      "source": [
        "import keras\n",
        "import tensorflow as tf\n",
        "\n",
        "\n",
        "config = tf.ConfigProto( device_count = {'GPU': 1 , 'CPU': 56} ) \n",
        "sess = tf.Session(config=config) \n",
        "keras.backend.set_session(sess)"
      ],
      "execution_count": 0,
      "outputs": []
    },
    {
      "cell_type": "code",
      "metadata": {
        "id": "HJ38v-T4eiAB",
        "colab_type": "code",
        "colab": {}
      },
      "source": [
        "from keras.preprocessing import image\n",
        "from keras.applications.vgg16 import preprocess_input\n",
        "from sklearn.utils import shuffle\n",
        "from sklearn.metrics import accuracy_score\n",
        "import glob\n",
        "import numpy as np\n",
        "import cv2\n",
        "\n",
        "model = vgg2c()\n",
        "\n",
        "for layer in model.layers[:2]:\n",
        "    layer.trainable=False\n",
        "\n",
        "model.compile(optimizer='adam',loss='categorical_crossentropy', metrics=['accuracy'])\n",
        "model.summary()"
      ],
      "execution_count": 0,
      "outputs": []
    },
    {
      "cell_type": "code",
      "metadata": {
        "id": "ROm35pVSezON",
        "colab_type": "code",
        "colab": {}
      },
      "source": [
        "model.fit(train_set, train_targets, batch_size = 128, epochs = 100)\n"
      ],
      "execution_count": 0,
      "outputs": []
    },
    {
      "cell_type": "code",
      "metadata": {
        "id": "a8Y1IGcsmhfB",
        "colab_type": "code",
        "colab": {}
      },
      "source": [
        "score = model.evaluate(test_set, test_targets, verbose=0)\n",
        "print(\"score : \", score)"
      ],
      "execution_count": 0,
      "outputs": []
    },
    {
      "cell_type": "code",
      "metadata": {
        "id": "mLwpbTZJjM0M",
        "colab_type": "code",
        "colab": {}
      },
      "source": [
        "from tensorflow.python.client import device_lib\n",
        "print(device_lib.list_local_devices())"
      ],
      "execution_count": 0,
      "outputs": []
    },
    {
      "cell_type": "code",
      "metadata": {
        "id": "nX1xRBZxjspQ",
        "colab_type": "code",
        "colab": {}
      },
      "source": [
        "from keras import backend as K\n",
        "K.tensorflow_backend._get_available_gpus()"
      ],
      "execution_count": 0,
      "outputs": []
    }
  ]
}