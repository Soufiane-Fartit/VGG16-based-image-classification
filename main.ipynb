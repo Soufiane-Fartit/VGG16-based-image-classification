{
 "cells": [
  {
   "cell_type": "markdown",
   "metadata": {},
   "source": [
    "### CONNECT GOOGLE COLAB TO KAGGLE AND DOWNLOAD THE DATA SET"
   ]
  },
  {
   "cell_type": "code",
   "execution_count": 0,
   "metadata": {
    "colab": {},
    "colab_type": "code",
    "id": "75nQt1NJ_49E"
   },
   "outputs": [],
   "source": [
    "from google.colab import files\n",
    "files.upload()"
   ]
  },
  {
   "cell_type": "code",
   "execution_count": 0,
   "metadata": {
    "colab": {},
    "colab_type": "code",
    "id": "HQmaS4rEBUVN"
   },
   "outputs": [],
   "source": [
    "!pip install -q kaggle"
   ]
  },
  {
   "cell_type": "code",
   "execution_count": 0,
   "metadata": {
    "colab": {},
    "colab_type": "code",
    "id": "qlAprEe9BXMa"
   },
   "outputs": [],
   "source": [
    "!mkdir -p ~/.kaggle\n",
    "!cp kaggle.json ~/.kaggle/\n",
    "!chmod 600 ~/.kaggle/kaggle.json\n",
    "!kaggle datasets download -d chetankv/dogs-cats-images\n",
    "!unzip dogs-cats-images.zip\n",
    "!unzip \"dog vs cat.zip\""
   ]
  },
  {
   "cell_type": "code",
   "execution_count": 0,
   "metadata": {
    "colab": {},
    "colab_type": "code",
    "id": "PANwRmqkC-S9"
   },
   "outputs": [],
   "source": [
    "from tensorflow.keras.applications.vgg16 import VGG16\n",
    "import tensorflow as tf\n",
    "\n",
    "from tensorflow.keras.layers import Flatten\n",
    "from tensorflow.keras.layers import Dense\n",
    "from tensorflow.keras.layers import Input\n",
    "from tensorflow.keras.models import Model\n",
    "\n",
    "from tensorflow.keras.preprocessing import image\n",
    "from tensorflow.keras.applications.vgg16 import preprocess_input\n",
    "from sklearn.utils import shuffle\n",
    "from sklearn.metrics import accuracy_score\n",
    "import glob\n",
    "import numpy as np\n",
    "import cv2"
   ]
  },
  {
   "cell_type": "code",
   "execution_count": 0,
   "metadata": {
    "colab": {},
    "colab_type": "code",
    "id": "VDrvKXXsBXla"
   },
   "outputs": [],
   "source": [
    "from tensorflow.python.client import device_lib\n",
    "\n",
    "device_lib.list_local_devices()"
   ]
  },
  {
   "cell_type": "markdown",
   "metadata": {},
   "source": [
    "### CREATE THE MODEL"
   ]
  },
  {
   "cell_type": "code",
   "execution_count": 0,
   "metadata": {
    "colab": {},
    "colab_type": "code",
    "id": "18YyI6hjBXp6"
   },
   "outputs": [],
   "source": [
    "def vgg2c():\n",
    "    \tmodel = VGG16(weights='imagenet', include_top=False)\n",
    "    \n",
    "    \t#Create your own input format (here 3x200x200)\n",
    "    \tinput = Input(shape=(224,224,3),name = 'image_input')\n",
    "    \n",
    "    \t#Use the generated model \n",
    "    \toutput_vgg16_conv = model(input)\n",
    "    \n",
    "    \t#Add the fully-connected layers \n",
    "    \tx = Flatten(name='flatten')(output_vgg16_conv)\n",
    "    \tx = Dense(4096, activation='relu', name='fc1')(x)\n",
    "    \tx = Dense(4096, activation='relu', name='fc2')(x)\n",
    "    \tx = Dense(2, activation='softmax', name='predictions')(x)\n",
    "    \n",
    "    \t#Create your own model \n",
    "    \tmy_model = Model(inputs=input, outputs=x)\n",
    "    \n",
    "    \treturn my_model"
   ]
  },
  {
   "cell_type": "markdown",
   "metadata": {},
   "source": [
    "### PREPROCESS THE DATA"
   ]
  },
  {
   "cell_type": "code",
   "execution_count": 0,
   "metadata": {
    "colab": {},
    "colab_type": "code",
    "id": "zykRv7T3BXyV"
   },
   "outputs": [],
   "source": [
    "config = tf.compat.v1.ConfigProto(allow_soft_placement=True, device_count = {'GPU': 1})\n",
    "config.gpu_options.per_process_gpu_memory_fraction = 1\n",
    "config.gpu_options.allow_growth = True\n",
    "\n",
    "\n",
    "sess =  tf.compat.v1.Session(config=config)\n",
    "from tensorflow.python.client import device_lib\n",
    "\n",
    "\n",
    "#device_lib.list_local_devices()\n",
    "with tf.device('/gpu:0'):\n",
    "\n",
    "    dogs_train = []\n",
    "    cats_train = []\n",
    "    dogs_test = []\n",
    "    cats_test = []\n",
    "    \n",
    "    dogs_train_target = []\n",
    "    cats_train_target = []\n",
    "    dogs_test_target = []\n",
    "    cats_test_target = []\n",
    "    \n",
    "    count=0\n",
    "    for filename in glob.glob('dataset/training_set/dogs/*.jpg'): #assuming gif\n",
    "        im = cv2.imread(filename)\n",
    "        if count == 200:\n",
    "            break\n",
    "        try:\n",
    "            im = cv2.resize(im,(224,224))\n",
    "            #im = np.expand_dims(im, axis=0)\n",
    "            im = preprocess_input(im)\n",
    "            dogs_train.append(im)\n",
    "            dogs_train_target.append([1,0])\n",
    "            count+=1\n",
    "        except:\n",
    "            pass\n",
    "    count=0\n",
    "    for filename in glob.glob('dataset/training_set/cats/*.jpg'): #assuming gif\n",
    "        im = cv2.imread(filename)\n",
    "        if count == 200:\n",
    "            break\n",
    "        try:\n",
    "            im = cv2.resize(im,(224,224))\n",
    "            #im = np.expand_dims(im, axis=0)\n",
    "            im = preprocess_input(im)\n",
    "            cats_train.append(im)\n",
    "            cats_train_target.append([0,1])\n",
    "            count+=1\n",
    "        except:\n",
    "            pass\n",
    "    count=0\n",
    "    for filename in glob.glob('dataset/test_set/dogs/*.jpg'): #assuming gif\n",
    "        im = cv2.imread(filename)\n",
    "        if count == 200:\n",
    "            break\n",
    "        try:\n",
    "            im = cv2.resize(im,(224,224))\n",
    "            #im = np.expand_dims(im, axis=0)\n",
    "            im = preprocess_input(im)\n",
    "            dogs_test.append(im)\n",
    "            dogs_test_target.append([1,0])\n",
    "            count+=1\n",
    "        except:\n",
    "            pass\n",
    "    count=0\n",
    "    for filename in glob.glob('dataset/test_set/cats/*.jpg'): #assuming gif\n",
    "        im = cv2.imread(filename)\n",
    "        if count == 200:\n",
    "            break\n",
    "        try:\n",
    "            im = cv2.resize(im,(224,224))\n",
    "            #im = np.expand_dims(im, axis=0)\n",
    "            im = preprocess_input(im)\n",
    "            cats_test.append(im)\n",
    "            cats_test_target.append([0,1])\n",
    "            count+=1\n",
    "        except:\n",
    "            pass\n",
    "    \n",
    "    dogs_train = np.array(dogs_train)\n",
    "    cats_train = np.array(cats_train)\n",
    "    dogs_test = np.array(dogs_test)\n",
    "    cats_test = np.array(cats_test)\n",
    "    \n",
    "    dogs_train_target = np.array(dogs_train_target)\n",
    "    cats_train_target = np.array(cats_train_target)\n",
    "    dogs_test_target = np.array(dogs_test_target)\n",
    "    cats_test_target = np.array(cats_test_target)\n",
    "    \n",
    "    train_set = np.concatenate((dogs_train, cats_train))\n",
    "    train_targets = np.concatenate((dogs_train_target, cats_train_target))\n",
    "    \n",
    "    test_set = np.concatenate((dogs_test, cats_test))\n",
    "    test_targets = np.concatenate((dogs_test_target, cats_test_target))\n",
    "    \n",
    "    train_set, train_targets = shuffle(train_set, train_targets)\n",
    "    test_set, test_targets = shuffle(test_set, test_targets)\n",
    "    \n"
   ]
  },
  {
   "cell_type": "markdown",
   "metadata": {},
   "source": [
    "### TRAIN THE NETWORK"
   ]
  },
  {
   "cell_type": "code",
   "execution_count": 0,
   "metadata": {
    "colab": {},
    "colab_type": "code",
    "id": "4Pdp0vDIBX2A"
   },
   "outputs": [],
   "source": [
    "with tf.device('/gpu:0'):\n",
    "  model = vgg2c()\n",
    "  for layer in model.layers[:2]:\n",
    "    layer.trainable=False\n",
    "  \n",
    "  model.compile(optimizer='adam',loss='categorical_crossentropy')\n",
    "  model.summary()\n",
    "    \n",
    "  model.fit(train_set, train_targets, batch_size = 128, epochs = 100, verbose=0)\n",
    "  print(\"training finished\")\n",
    "\n",
    "  score = model.evaluate(test_set, test_targets)\n",
    "  print(score)"
   ]
  },
  {
   "cell_type": "markdown",
   "metadata": {},
   "source": [
    "### TESTS/VISUALIZATION"
   ]
  },
  {
   "cell_type": "code",
   "execution_count": 0,
   "metadata": {
    "colab": {},
    "colab_type": "code",
    "id": "hnj0YP0_BXvx"
   },
   "outputs": [],
   "source": [
    "%matplotlib inline\n",
    "import matplotlib.pyplot as plt\n",
    "import matplotlib.image as mpimg\n",
    "i=0\n",
    "predicted = model.predict(test_set)"
   ]
  },
  {
   "cell_type": "code",
   "execution_count": 0,
   "metadata": {
    "colab": {},
    "colab_type": "code",
    "id": "y10CYnI9BXtd"
   },
   "outputs": [],
   "source": [
    "imgplot = plt.imshow(test_set[i])\n",
    "print(test_targets[i], \" == \", predicted[i])\n",
    "i+=1"
   ]
  },
  {
   "cell_type": "code",
   "execution_count": 0,
   "metadata": {
    "colab": {},
    "colab_type": "code",
    "id": "hfSG53T7BXnx"
   },
   "outputs": [],
   "source": []
  }
 ],
 "metadata": {
  "accelerator": "GPU",
  "colab": {
   "collapsed_sections": [],
   "name": "cats_dogs_vgg16.ipynb",
   "provenance": [],
   "version": "0.3.2"
  },
  "kernelspec": {
   "display_name": "Python 3",
   "language": "python",
   "name": "python3"
  },
  "language_info": {
   "codemirror_mode": {
    "name": "ipython",
    "version": 2
   },
   "file_extension": ".py",
   "mimetype": "text/x-python",
   "name": "python",
   "nbconvert_exporter": "python",
   "pygments_lexer": "ipython2",
   "version": "2.7.15+"
  }
 },
 "nbformat": 4,
 "nbformat_minor": 1
}
